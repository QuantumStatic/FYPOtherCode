{
 "cells": [
  {
   "cell_type": "code",
   "execution_count": 1,
   "id": "96c47644-46e8-455e-8111-f2e2643f44f8",
   "metadata": {},
   "outputs": [
    {
     "name": "stderr",
     "output_type": "stream",
     "text": [
      "C:\\Users\\uujain2\\Anaconda3\\envs\\UT\\lib\\site-packages\\tqdm\\auto.py:22: TqdmWarning: IProgress not found. Please update jupyter and ipywidgets. See https://ipywidgets.readthedocs.io/en/stable/user_install.html\n",
      "  from .autonotebook import tqdm as notebook_tqdm\n"
     ]
    }
   ],
   "source": [
    "import numpy as np\n",
    "import pandas as pd\n",
    "import torch\n",
    "from torch import nn\n",
    "import torch.nn.functional as F\n",
    "from torch.utils.data import Dataset, DataLoader, RandomSampler, SequentialSampler\n",
    "#import tensorflow as tf\n",
    "\n",
    "# Importing the T5 modules from huggingface/transformers\n",
    "from transformers import T5Tokenizer, T5ForConditionalGeneration, AdamW\n",
    "from torch import softmax\n",
    "import nltk\n",
    "import string\n",
    "\n",
    "device = \"cuda\""
   ]
  },
  {
   "cell_type": "code",
   "execution_count": 2,
   "id": "e96697db-c84a-4c9b-981f-b75fbdce68e9",
   "metadata": {},
   "outputs": [],
   "source": [
    "model_iter = 84480//128\n",
    "# model = torch.load(f\"C:\\\\Users\\\\uujain2\\\\Desktop\\\\Utkarsh\\\\FYP\\\\Models\\\\T5_model_runs\\\\25march/{84480}.pt\")\n",
    "model = torch.load(\"C:\\\\Users\\\\uujain2\\\\Desktop\\\\Utkarsh\\\\FYP\\\\Models\\\\T5\\\\1_128.pt\")\n",
    "model.to(device)\n",
    "model.eval()\n",
    "# model = T5ForConditionalGeneration.from_pretrained('t5-base')\n",
    "tokenizer = T5Tokenizer.from_pretrained(\"google/flan-t5-base\", model_max_length=512,truncation=True)"
   ]
  },
  {
   "cell_type": "code",
   "execution_count": 3,
   "id": "cd679eef-c5d0-4487-9508-beca9674000d",
   "metadata": {},
   "outputs": [],
   "source": [
    "test_sentence = \"Rewrite this in a neutral tone: Brutal Trump ordered innocent murders.\""
   ]
  },
  {
   "cell_type": "code",
   "execution_count": 4,
   "id": "30a0bfb6-d9b1-42ca-a31d-6a9f84e3081f",
   "metadata": {},
   "outputs": [
    {
     "data": {
      "text/plain": [
       "tensor([[  419, 17504,    48,    16,     3,     9,  7163,  5739,    10,     3,\n",
       "          9465,  1947,  2523,  5563, 16679,  7738,     7,     5,     1]],\n",
       "       device='cuda:0')"
      ]
     },
     "execution_count": 4,
     "metadata": {},
     "output_type": "execute_result"
    }
   ],
   "source": [
    "input_ids = tokenizer.encode(test_sentence, return_tensors='pt').long().to(device)\n",
    "input_ids[0][0] = input_ids[0][0]\n",
    "input_ids"
   ]
  },
  {
   "cell_type": "code",
   "execution_count": 5,
   "id": "5d06332e-02e9-4482-9933-f467f2289cde",
   "metadata": {},
   "outputs": [],
   "source": [
    "output = model.generate(input_ids, max_new_tokens=4096, repetition_penalty=400.0, length_penalty=1.4, num_return_sequences=1, num_beams=64, temperature=4.0, early_stopping=True)"
   ]
  },
  {
   "cell_type": "code",
   "execution_count": 6,
   "id": "eae8a883-b984-453b-bb6a-262c76cd5a05",
   "metadata": {},
   "outputs": [
    {
     "data": {
      "text/plain": [
       "'Brutal Trump ordered innocent murders.'"
      ]
     },
     "execution_count": 6,
     "metadata": {},
     "output_type": "execute_result"
    }
   ],
   "source": [
    "generated_text = tokenizer.decode(output[0], skip_special_tokens=True)\n",
    "generated_text"
   ]
  },
  {
   "cell_type": "code",
   "execution_count": null,
   "id": "0c16ffb3-c341-4d1e-a171-7e7057b4620b",
   "metadata": {},
   "outputs": [],
   "source": []
  },
  {
   "cell_type": "code",
   "execution_count": null,
   "id": "3dc4ff97-5d26-4040-a91f-46674aa4e1db",
   "metadata": {},
   "outputs": [],
   "source": []
  },
  {
   "cell_type": "code",
   "execution_count": null,
   "id": "ba665f39-baeb-41e4-99f6-415877db2564",
   "metadata": {},
   "outputs": [],
   "source": []
  }
 ],
 "metadata": {
  "kernelspec": {
   "display_name": "Python 3 (ipykernel)",
   "language": "python",
   "name": "python3"
  },
  "language_info": {
   "codemirror_mode": {
    "name": "ipython",
    "version": 3
   },
   "file_extension": ".py",
   "mimetype": "text/x-python",
   "name": "python",
   "nbconvert_exporter": "python",
   "pygments_lexer": "ipython3",
   "version": "3.9.16"
  }
 },
 "nbformat": 4,
 "nbformat_minor": 5
}
